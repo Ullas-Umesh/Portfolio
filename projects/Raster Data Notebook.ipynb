{
 "cells": [
  {
   "cell_type": "code",
   "execution_count": 0,
   "metadata": {
    "application/vnd.databricks.v1+cell": {
     "cellMetadata": {
      "byteLimit": 2048000,
      "implicitDf": true,
      "rowLimit": 10000
     },
     "inputWidgets": {},
     "nuid": "d0423fa9-d074-4661-9054-48736720bb82",
     "showTitle": false,
     "tableResultSettingsMap": {},
     "title": ""
    }
   },
   "outputs": [
    {
     "data": {
      "text/plain": []
     },
     "metadata": {
      "application/vnd.databricks.v1+output": {
       "addedWidgets": {},
       "arguments": {},
       "datasetInfos": [],
       "jupyterProps": {
        "ename": "UsageError",
        "evalue": "Cell magic `%%sql` not found."
       },
       "metadata": {
        "errorSummary": "<span class='ansi-red-fg'>UsageError</span>: Cell magic `%%sql` not found."
       },
       "removedWidgets": [],
       "sqlProps": null,
       "stackFrames": [],
       "type": "baseError"
      }
     },
     "output_type": "display_data"
    }
   ],
   "source": [
    "%sql USE mpy.raster"
   ]
  },
  {
   "cell_type": "markdown",
   "metadata": {
    "application/vnd.databricks.v1+cell": {
     "cellMetadata": {
      "byteLimit": 2048000,
      "rowLimit": 10000
     },
     "inputWidgets": {},
     "nuid": "5613724c-2b53-49bc-9352-4da78752c250",
     "showTitle": false,
     "tableResultSettingsMap": {},
     "title": ""
    }
   },
   "source": [
    "#Converting .TIF to CSV"
   ]
  },
  {
   "cell_type": "code",
   "execution_count": 0,
   "metadata": {
    "application/vnd.databricks.v1+cell": {
     "cellMetadata": {
      "byteLimit": 2048000,
      "rowLimit": 10000
     },
     "inputWidgets": {},
     "nuid": "5111032b-9ab8-4642-9b59-cfa69698710f",
     "showTitle": false,
     "tableResultSettingsMap": {},
     "title": ""
    }
   },
   "outputs": [
    {
     "data": {
      "text/plain": []
     },
     "metadata": {
      "application/vnd.databricks.v1+output": {
       "addedWidgets": {},
       "arguments": {},
       "datasetInfos": [],
       "jupyterProps": null,
       "metadata": {
        "errorSummary": "Command skipped"
       },
       "removedWidgets": [],
       "sqlProps": null,
       "stackFrames": [],
       "type": "baseError"
      }
     },
     "output_type": "display_data"
    }
   ],
   "source": [
    "import os\n",
    "import rasterio\n",
    "import numpy as np\n",
    "import pandas as pd\n",
    "from pyspark.sql import SparkSession\n",
    "from pyspark.sql.functions import col\n",
    "\n",
    "# Initialize Spark session\n",
    "spark = SparkSession.builder.appName(\"RasterProcessing\").getOrCreate()\n",
    "\n",
    "# Define the directory containing the .tif files\n",
    "tif_dir = \"/Volumes/mpy/raster/tif_files/FC v mean/\"\n",
    "tif_files = [os.path.join(tif_dir, f) for f in os.listdir(tif_dir) if f.endswith('.tif')]\n",
    "\n",
    "# Read the raster files\n",
    "rasters = [rasterio.open(tif_file) for tif_file in tif_files]\n",
    "raster_names = [os.path.splitext(os.path.basename(f))[0] for f in tif_files]  # for column names\n",
    "\n",
    "# Read coordinates from Spark and collect to Pandas\n",
    "coords = spark.read.table(\"mpy.raster.location_coordinates\")\n",
    "coords_pd = coords.select(\"Longitude\", \"Latitude\", \"Location\", \"LocationID\", \"Region\").toPandas()\n",
    "\n",
    "# Extract raster values for each coordinate\n",
    "extracted_values = []\n",
    "for _, row in coords_pd.iterrows():\n",
    "    x, y = row[\"Longitude\"], row[\"Latitude\"]\n",
    "    values = [r.sample([(x, y)]).__next__()[0] for r in rasters]  # extract value from generator\n",
    "    extracted_values.append(values)\n",
    "\n",
    "# Combine extracted values with original data\n",
    "values_df = pd.DataFrame(extracted_values, columns=raster_names)\n",
    "final_pd_df = pd.concat([coords_pd, values_df], axis=1)\n",
    "\n",
    "# Convert back to Spark DataFrame\n",
    "spark_df = spark.createDataFrame(final_pd_df)\n",
    "\n",
    "# Save the final DataFrame as a CSV\n",
    "spark_df.write.mode('overwrite').saveAsTable('mpy.raster.fcmean_bronze') \n",
    "\n",
    "# Show in notebook (if supported)\n",
    "spark_df.show()"
   ]
  },
  {
   "cell_type": "code",
   "execution_count": 0,
   "metadata": {
    "application/vnd.databricks.v1+cell": {
     "cellMetadata": {
      "byteLimit": 2048000,
      "rowLimit": 10000
     },
     "inputWidgets": {},
     "nuid": "000086cc-3acc-45b9-911e-22aa0bf1840d",
     "showTitle": false,
     "tableResultSettingsMap": {},
     "title": ""
    }
   },
   "outputs": [
    {
     "data": {
      "text/plain": []
     },
     "metadata": {
      "application/vnd.databricks.v1+output": {
       "addedWidgets": {},
       "arguments": {},
       "datasetInfos": [],
       "jupyterProps": null,
       "metadata": {
        "errorSummary": "Command skipped"
       },
       "removedWidgets": [],
       "sqlProps": null,
       "stackFrames": [],
       "type": "baseError"
      }
     },
     "output_type": "display_data"
    }
   ],
   "source": [
    "\n",
    "# Define the directory containing the .tif files\n",
    "tif_dir = \"/Volumes/mpy/raster/tif_files/FC sd/\"\n",
    "tif_files = [os.path.join(tif_dir, f) for f in os.listdir(tif_dir) if f.endswith('.tif')]\n",
    "\n",
    "# Read the raster files\n",
    "rasters = [rasterio.open(tif_file) for tif_file in tif_files]\n",
    "raster_names = [os.path.splitext(os.path.basename(f))[0] for f in tif_files]  # for column names\n",
    "\n",
    "# Read coordinates from Spark and collect to Pandas\n",
    "coords = spark.read.table(\"mpy.raster.location_coordinates\")\n",
    "coords_pd = coords.select(\"Longitude\", \"Latitude\", \"Location\", \"LocationID\", \"Region\").toPandas()\n",
    "\n",
    "# Extract raster values for each coordinate\n",
    "extracted_values = []\n",
    "for _, row in coords_pd.iterrows():\n",
    "    x, y = row[\"Longitude\"], row[\"Latitude\"]\n",
    "    values = [r.sample([(x, y)]).__next__()[0] for r in rasters]  # extract value from generator\n",
    "    extracted_values.append(values)\n",
    "\n",
    "# Combine extracted values with original data\n",
    "values_df = pd.DataFrame(extracted_values, columns=raster_names)\n",
    "final_pd_df = pd.concat([coords_pd, values_df], axis=1)\n",
    "\n",
    "# Convert back to Spark DataFrame\n",
    "spark_df = spark.createDataFrame(final_pd_df)\n",
    "\n",
    "# Save the final DataFrame as a CSV\n",
    "spark_df.write.mode('overwrite').saveAsTable('mpy.raster.fcsd_bronze') \n",
    "\n",
    "# Show in notebook (if supported)\n",
    "spark_df.show()"
   ]
  },
  {
   "cell_type": "markdown",
   "metadata": {
    "application/vnd.databricks.v1+cell": {
     "cellMetadata": {
      "byteLimit": 2048000,
      "rowLimit": 10000
     },
     "inputWidgets": {},
     "nuid": "6f5482b5-37fe-4717-9530-c38bf5a2c7a1",
     "showTitle": false,
     "tableResultSettingsMap": {},
     "title": ""
    }
   },
   "source": [
    "# Reading the mean FC table"
   ]
  },
  {
   "cell_type": "code",
   "execution_count": 0,
   "metadata": {
    "application/vnd.databricks.v1+cell": {
     "cellMetadata": {
      "byteLimit": 2048000,
      "rowLimit": 10000
     },
     "inputWidgets": {},
     "nuid": "b0335be8-03ef-4566-9d9e-6806425b9d4e",
     "showTitle": false,
     "tableResultSettingsMap": {},
     "title": ""
    }
   },
   "outputs": [
    {
     "data": {
      "text/plain": []
     },
     "metadata": {
      "application/vnd.databricks.v1+output": {
       "addedWidgets": {},
       "arguments": {},
       "datasetInfos": [],
       "jupyterProps": null,
       "metadata": {
        "errorSummary": "Command skipped"
       },
       "removedWidgets": [],
       "sqlProps": null,
       "stackFrames": [],
       "type": "baseError"
      }
     },
     "output_type": "display_data"
    }
   ],
   "source": [
    "sdf_fc_mean = spark.read.table('fcmean_bronze')\n",
    "display(sdf_fc_mean)"
   ]
  },
  {
   "cell_type": "code",
   "execution_count": 0,
   "metadata": {
    "application/vnd.databricks.v1+cell": {
     "cellMetadata": {
      "byteLimit": 2048000,
      "rowLimit": 10000
     },
     "inputWidgets": {},
     "nuid": "73ebfcb6-59e2-4dd8-b05d-29dfadd0cb1e",
     "showTitle": false,
     "tableResultSettingsMap": {},
     "title": ""
    }
   },
   "outputs": [
    {
     "data": {
      "text/plain": []
     },
     "metadata": {
      "application/vnd.databricks.v1+output": {
       "addedWidgets": {},
       "arguments": {},
       "datasetInfos": [],
       "jupyterProps": null,
       "metadata": {
        "errorSummary": "Command skipped"
       },
       "removedWidgets": [],
       "sqlProps": null,
       "stackFrames": [],
       "type": "baseError"
      }
     },
     "output_type": "display_data"
    }
   ],
   "source": [
    "var = ['x','y','Location','LocationID','Region']\n",
    "value_var = list(set(sdf_fc_mean.columns).difference(var))\n",
    "sdf_fc_mean_pd = sdf_fc_mean.toPandas()\n",
    "sdf_fc_mean_pd = pd.melt(\n",
    "    sdf_fc_mean_pd,\n",
    "    id_vars=var,\n",
    "    value_vars=value_var,\n",
    "    var_name='Week',\n",
    "    value_name='FC_mean'\n",
    ")"
   ]
  },
  {
   "cell_type": "code",
   "execution_count": 0,
   "metadata": {
    "application/vnd.databricks.v1+cell": {
     "cellMetadata": {
      "byteLimit": 2048000,
      "rowLimit": 10000
     },
     "inputWidgets": {},
     "nuid": "334650f8-9fee-4353-be08-44e177195021",
     "showTitle": false,
     "tableResultSettingsMap": {},
     "title": ""
    }
   },
   "outputs": [
    {
     "data": {
      "text/plain": []
     },
     "metadata": {
      "application/vnd.databricks.v1+output": {
       "addedWidgets": {},
       "arguments": {},
       "datasetInfos": [],
       "jupyterProps": null,
       "metadata": {
        "errorSummary": "Command skipped"
       },
       "removedWidgets": [],
       "sqlProps": null,
       "stackFrames": [],
       "type": "baseError"
      }
     },
     "output_type": "display_data"
    }
   ],
   "source": [
    "display(sdf_fc_mean_pd)"
   ]
  },
  {
   "cell_type": "code",
   "execution_count": 0,
   "metadata": {
    "application/vnd.databricks.v1+cell": {
     "cellMetadata": {
      "byteLimit": 2048000,
      "rowLimit": 10000
     },
     "inputWidgets": {},
     "nuid": "a7ba748b-8f20-44ca-bc52-faa598c7b165",
     "showTitle": false,
     "tableResultSettingsMap": {},
     "title": ""
    }
   },
   "outputs": [
    {
     "data": {
      "text/plain": []
     },
     "metadata": {
      "application/vnd.databricks.v1+output": {
       "addedWidgets": {},
       "arguments": {},
       "datasetInfos": [],
       "jupyterProps": null,
       "metadata": {
        "errorSummary": "Command skipped"
       },
       "removedWidgets": [],
       "sqlProps": null,
       "stackFrames": [],
       "type": "baseError"
      }
     },
     "output_type": "display_data"
    }
   ],
   "source": [
    "sdf_fc_mean_pd['Week'] = sdf_fc_mean_pd['Week'].str[-2:]\n",
    "sdf_fc_mean_pd = sdf_fc_mean_pd.sort_values(['LocationID','Week'])\n",
    "display(sdf_fc_mean_pd)"
   ]
  },
  {
   "cell_type": "code",
   "execution_count": 0,
   "metadata": {
    "application/vnd.databricks.v1+cell": {
     "cellMetadata": {
      "byteLimit": 2048000,
      "rowLimit": 10000
     },
     "inputWidgets": {},
     "nuid": "c4364d9d-bef0-4fed-b677-f4c9a5e0580a",
     "showTitle": false,
     "tableResultSettingsMap": {},
     "title": ""
    }
   },
   "outputs": [
    {
     "data": {
      "text/plain": []
     },
     "metadata": {
      "application/vnd.databricks.v1+output": {
       "addedWidgets": {},
       "arguments": {},
       "datasetInfos": [],
       "jupyterProps": null,
       "metadata": {
        "errorSummary": "Command skipped"
       },
       "removedWidgets": [],
       "sqlProps": null,
       "stackFrames": [],
       "type": "baseError"
      }
     },
     "output_type": "display_data"
    }
   ],
   "source": [
    "sdf_fc_mean = spark.createDataFrame(sdf_fc_mean_pd)\n",
    "sdf_fc_mean.write.mode('overwrite').saveAsTable('fc_mean_silver') "
   ]
  },
  {
   "cell_type": "markdown",
   "metadata": {
    "application/vnd.databricks.v1+cell": {
     "cellMetadata": {
      "byteLimit": 2048000,
      "rowLimit": 10000
     },
     "inputWidgets": {},
     "nuid": "39b83084-eab4-4339-8653-2ad3f5625849",
     "showTitle": false,
     "tableResultSettingsMap": {},
     "title": ""
    }
   },
   "source": [
    "#Reading the sd FC table"
   ]
  },
  {
   "cell_type": "code",
   "execution_count": 0,
   "metadata": {
    "application/vnd.databricks.v1+cell": {
     "cellMetadata": {
      "byteLimit": 2048000,
      "rowLimit": 10000
     },
     "inputWidgets": {},
     "nuid": "b7238818-14c7-416c-80d4-c3ba09cc2230",
     "showTitle": false,
     "tableResultSettingsMap": {},
     "title": ""
    }
   },
   "outputs": [
    {
     "data": {
      "text/plain": []
     },
     "metadata": {
      "application/vnd.databricks.v1+output": {
       "addedWidgets": {},
       "arguments": {},
       "datasetInfos": [],
       "jupyterProps": null,
       "metadata": {
        "errorSummary": "Command skipped"
       },
       "removedWidgets": [],
       "sqlProps": null,
       "stackFrames": [],
       "type": "baseError"
      }
     },
     "output_type": "display_data"
    }
   ],
   "source": [
    "sdf_fc_sd = spark.read.table('fcsd_bronze')\n",
    "display(sdf_fc_sd)"
   ]
  },
  {
   "cell_type": "code",
   "execution_count": 0,
   "metadata": {
    "application/vnd.databricks.v1+cell": {
     "cellMetadata": {
      "byteLimit": 2048000,
      "rowLimit": 10000
     },
     "inputWidgets": {},
     "nuid": "ef452301-f0fc-40d4-aa65-30f38beb0fb6",
     "showTitle": false,
     "tableResultSettingsMap": {},
     "title": ""
    }
   },
   "outputs": [
    {
     "data": {
      "text/plain": []
     },
     "metadata": {
      "application/vnd.databricks.v1+output": {
       "addedWidgets": {},
       "arguments": {},
       "datasetInfos": [],
       "jupyterProps": null,
       "metadata": {
        "errorSummary": "Command skipped"
       },
       "removedWidgets": [],
       "sqlProps": null,
       "stackFrames": [],
       "type": "baseError"
      }
     },
     "output_type": "display_data"
    }
   ],
   "source": [
    "var = ['Longitude','Latitude','Location','LocationID','Region']\n",
    "value_var = list(set(sdf_fc_sd.columns).difference(var))\n",
    "sdf_fc_sd_pd = sdf_fc_sd.toPandas()\n",
    "sdf_fc_sd_pd = pd.melt(\n",
    "    sdf_fc_sd_pd,\n",
    "    id_vars=var,\n",
    "    value_vars=value_var,\n",
    "    var_name='Week',\n",
    "    value_name='FC_sd'\n",
    ")"
   ]
  },
  {
   "cell_type": "code",
   "execution_count": 0,
   "metadata": {
    "application/vnd.databricks.v1+cell": {
     "cellMetadata": {
      "byteLimit": 2048000,
      "rowLimit": 10000
     },
     "inputWidgets": {},
     "nuid": "8d51ca98-b204-400a-a0a1-9d025b70a46a",
     "showTitle": false,
     "tableResultSettingsMap": {},
     "title": ""
    }
   },
   "outputs": [
    {
     "data": {
      "text/plain": []
     },
     "metadata": {
      "application/vnd.databricks.v1+output": {
       "addedWidgets": {},
       "arguments": {},
       "datasetInfos": [],
       "jupyterProps": null,
       "metadata": {
        "errorSummary": "Command skipped"
       },
       "removedWidgets": [],
       "sqlProps": null,
       "stackFrames": [],
       "type": "baseError"
      }
     },
     "output_type": "display_data"
    }
   ],
   "source": [
    "display(sdf_fc_sd_pd)"
   ]
  },
  {
   "cell_type": "code",
   "execution_count": 0,
   "metadata": {
    "application/vnd.databricks.v1+cell": {
     "cellMetadata": {
      "byteLimit": 2048000,
      "rowLimit": 10000
     },
     "inputWidgets": {},
     "nuid": "fe385c95-1dd8-40f7-9307-62eda405ff13",
     "showTitle": false,
     "tableResultSettingsMap": {},
     "title": ""
    }
   },
   "outputs": [
    {
     "data": {
      "text/plain": []
     },
     "metadata": {
      "application/vnd.databricks.v1+output": {
       "addedWidgets": {},
       "arguments": {},
       "datasetInfos": [],
       "jupyterProps": null,
       "metadata": {
        "errorSummary": "Command skipped"
       },
       "removedWidgets": [],
       "sqlProps": null,
       "stackFrames": [],
       "type": "baseError"
      }
     },
     "output_type": "display_data"
    }
   ],
   "source": [
    "sdf_fc_sd_pd['Week'] = sdf_fc_sd_pd['Week'].str[-2:]\n",
    "sdf_fc_sd_pd = sdf_fc_sd_pd.rename(columns={'Latitude': 'y', 'Longitude': 'x'}).sort_values(['LocationID','Week'])\n",
    "display(sdf_fc_sd_pd)"
   ]
  },
  {
   "cell_type": "code",
   "execution_count": 0,
   "metadata": {
    "application/vnd.databricks.v1+cell": {
     "cellMetadata": {
      "byteLimit": 2048000,
      "rowLimit": 10000
     },
     "inputWidgets": {},
     "nuid": "a03f5797-7e25-49c8-87b9-5f83f58206d3",
     "showTitle": false,
     "tableResultSettingsMap": {},
     "title": ""
    }
   },
   "outputs": [
    {
     "data": {
      "text/plain": []
     },
     "metadata": {
      "application/vnd.databricks.v1+output": {
       "addedWidgets": {},
       "arguments": {},
       "datasetInfos": [],
       "jupyterProps": null,
       "metadata": {
        "errorSummary": "Command skipped"
       },
       "removedWidgets": [],
       "sqlProps": null,
       "stackFrames": [],
       "type": "baseError"
      }
     },
     "output_type": "display_data"
    }
   ],
   "source": [
    "sdf_fc_sd = spark.createDataFrame(sdf_fc_sd_pd)\n",
    "sdf_fc_sd.write.mode('overwrite').saveAsTable('fc_sd_silver')"
   ]
  },
  {
   "cell_type": "markdown",
   "metadata": {
    "application/vnd.databricks.v1+cell": {
     "cellMetadata": {
      "byteLimit": 2048000,
      "rowLimit": 10000
     },
     "inputWidgets": {},
     "nuid": "9a0f48ed-a536-4ce9-ba22-d2070293a0bf",
     "showTitle": false,
     "tableResultSettingsMap": {},
     "title": ""
    }
   },
   "source": [
    "# Merging both mean and sd FC tables"
   ]
  },
  {
   "cell_type": "code",
   "execution_count": 0,
   "metadata": {
    "application/vnd.databricks.v1+cell": {
     "cellMetadata": {
      "byteLimit": 2048000,
      "rowLimit": 10000
     },
     "inputWidgets": {},
     "nuid": "fdbceb2f-0d5b-4198-a401-287448190dfd",
     "showTitle": false,
     "tableResultSettingsMap": {},
     "title": ""
    }
   },
   "outputs": [
    {
     "data": {
      "text/plain": []
     },
     "metadata": {
      "application/vnd.databricks.v1+output": {
       "addedWidgets": {},
       "arguments": {},
       "datasetInfos": [],
       "jupyterProps": null,
       "metadata": {
        "errorSummary": "Command skipped"
       },
       "removedWidgets": [],
       "sqlProps": null,
       "stackFrames": [],
       "type": "baseError"
      }
     },
     "output_type": "display_data"
    }
   ],
   "source": [
    "df_fc_mean_sd = pd.merge(sdf_fc_mean_pd,sdf_fc_sd_pd,on=['x','y','Location','LocationID','Region','Week'])\n",
    "display(df_fc_mean_sd)"
   ]
  },
  {
   "cell_type": "code",
   "execution_count": 0,
   "metadata": {
    "application/vnd.databricks.v1+cell": {
     "cellMetadata": {
      "byteLimit": 2048000,
      "rowLimit": 10000
     },
     "inputWidgets": {},
     "nuid": "698ac535-7db3-4b2c-ab2e-a08452523320",
     "showTitle": false,
     "tableResultSettingsMap": {},
     "title": ""
    }
   },
   "outputs": [
    {
     "data": {
      "text/plain": []
     },
     "metadata": {
      "application/vnd.databricks.v1+output": {
       "addedWidgets": {},
       "arguments": {},
       "datasetInfos": [],
       "jupyterProps": null,
       "metadata": {
        "errorSummary": "Command skipped"
       },
       "removedWidgets": [],
       "sqlProps": null,
       "stackFrames": [],
       "type": "baseError"
      }
     },
     "output_type": "display_data"
    }
   ],
   "source": [
    "sdf_fc_mean_sd = spark.createDataFrame(df_fc_mean_sd)\n",
    "sdf_fc_mean_sd.write.mode('overwrite').saveAsTable('fc_mean_sd_gold')"
   ]
  },
  {
   "cell_type": "markdown",
   "metadata": {},
   "source": [
    "# Visualisation"
   ]
  },
  {
   "cell_type": "code",
   "execution_count": 0,
   "metadata": {
    "application/vnd.databricks.v1+cell": {
     "cellMetadata": {
      "byteLimit": 2048000,
      "rowLimit": 10000
     },
     "inputWidgets": {},
     "nuid": "092e620d-f5cc-4588-a1d5-1073f593c8ae",
     "showTitle": false,
     "tableResultSettingsMap": {},
     "title": ""
    }
   },
   "outputs": [],
   "source": [
    "df = pd.read_csv(\"C://Users/UmeshU/OneDrive - AkzoNobel/Documents/C Squirt Raft Data/FC_MEAN_SD.csv\")"
   ]
  },
  {
   "cell_type": "code",
   "execution_count": null,
   "metadata": {},
   "outputs": [],
   "source": [
    "df = df.dropna()"
   ]
  },
  {
   "cell_type": "code",
   "execution_count": null,
   "metadata": {},
   "outputs": [],
   "source": [
    "data = df\n",
    "# Create the initial figure\n",
    "fig = go.Figure()\n",
    "\n",
    "# Add a scattermapbox trace for each unique week\n",
    "weeks = data['Week'].unique()\n",
    "for week in weeks:\n",
    "    week_data = data[data['Week'] == week]\n",
    "    fig.add_trace(go.Scattermapbox(\n",
    "        lat=week_data['Latitude'],\n",
    "        lon=week_data['Longitude'],\n",
    "        mode='markers',\n",
    "        marker=go.scattermapbox.Marker(\n",
    "            size=week_data['Mean_FC'] / 2,  # Scale size for better visibility\n",
    "            color=week_data['Mean_FC'],\n",
    "            colorscale='Viridis',\n",
    "            showscale=True,\n",
    "            colorbar=dict(title=\"Mean FC\")\n",
    "        ),\n",
    "        text=week_data['Location'] + \"<br>Mean FC: \" + week_data['Mean_FC'].astype(str) + \"<br>SD FC: \" + week_data['SD_FC'].astype(str),\n",
    "        hoverinfo='text',\n",
    "        name=f\"Week {week}\",\n",
    "        visible=(week == '01')  # Show only week 01 initially\n",
    "    ))\n",
    "\n",
    "# Configure layout for the map\n",
    "fig.update_layout(\n",
    "    mapbox=dict(\n",
    "        style=\"carto-positron\",\n",
    "        zoom=1,\n",
    "        center={\"lat\": data[\"Latitude\"].mean(), \"lon\": data[\"Longitude\"].mean()},\n",
    "    ),\n",
    "    title=\"Weekly Mean FC Across Locations\",\n",
    "    margin={\"r\":0,\"t\":0,\"l\":0,\"b\":0},\n",
    ")\n",
    "\n",
    "# Create dropdown menu for each week\n",
    "dropdown_buttons = [\n",
    "    dict(\n",
    "        label=f\"Week {week}\",\n",
    "        method=\"update\",\n",
    "        args=[{\"visible\": [week == w for w in weeks]}],  # Set visibility based on the selected week\n",
    "    )\n",
    "    for week in weeks\n",
    "]\n",
    "\n",
    "# Add the dropdown menu to the layout\n",
    "fig.update_layout(\n",
    "    updatemenus=[dict(\n",
    "        buttons=dropdown_buttons,\n",
    "        direction=\"down\",\n",
    "        showactive=True,\n",
    "        x=0.1,\n",
    "        xanchor=\"left\",\n",
    "        y=1.15,\n",
    "        yanchor=\"top\"\n",
    "    )]\n",
    ")\n",
    "\n",
    "# Save as HTML\n",
    "fig.write_html(\"weekly_mean_fc_map_with_dropdown.html\")\n",
    "\n",
    "# Display in Jupyter Notebook (optional)\n",
    "fig.show()\n"
   ]
  }
 ],
 "metadata": {
  "application/vnd.databricks.v1+notebook": {
   "computePreferences": null,
   "dashboards": [],
   "environmentMetadata": {
    "base_environment": "",
    "environment_version": "2"
   },
   "inputWidgetPreferences": null,
   "language": "python",
   "notebookMetadata": {
    "mostRecentlyExecutedCommandWithImplicitDF": {
     "commandId": 4947783772194905,
     "dataframes": [
      "_sqldf"
     ]
    },
    "pythonIndentUnit": 4
   },
   "notebookName": "Untitled Notebook 2025-04-29 10:56:28",
   "widgets": {}
  },
  "language_info": {
   "name": "python"
  }
 },
 "nbformat": 4,
 "nbformat_minor": 0
}
